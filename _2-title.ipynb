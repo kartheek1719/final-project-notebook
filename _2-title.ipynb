{
 "cells": [
  {
   "cell_type": "markdown",
   "id": "52ee28d9-9d3e-4061-97c8-bf5e257ae763",
   "metadata": {},
   "source": [
    "## Final Project - Data Science Essentials"
   ]
  },
  {
   "cell_type": "code",
   "execution_count": null,
   "id": "dbf9b43c-7082-4a7e-9d8e-5552030bc193",
   "metadata": {},
   "outputs": [],
   "source": []
  }
 ],
 "metadata": {
  "kernelspec": {
   "display_name": "Python 3 (ipykernel)",
   "language": "python",
   "name": "python3"
  },
  "language_info": {
   "codemirror_mode": {
    "name": "ipython",
    "version": 3
   },
   "file_extension": ".py",
   "mimetype": "text/x-python",
   "name": "python",
   "nbconvert_exporter": "python",
   "pygments_lexer": "ipython3",
   "version": "3.12.8"
  }
 },
 "nbformat": 4,
 "nbformat_minor": 5
}
