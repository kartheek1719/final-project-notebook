{
 "cells": [
  {
   "cell_type": "markdown",
   "id": "9cc82ff0-bb5f-4bea-be33-35f8ac8d6105",
   "metadata": {},
   "source": [
    "The following are popular languages for Data Science:\n",
    "\n",
    "1. Python  \n",
    "2. R  \n",
    "3. SQL  \n"
   ]
  },
  {
   "cell_type": "code",
   "execution_count": null,
   "id": "3dfce9d9-c0f4-42eb-9b19-3a15c71abbf7",
   "metadata": {},
   "outputs": [],
   "source": []
  }
 ],
 "metadata": {
  "kernelspec": {
   "display_name": "Python 3 (ipykernel)",
   "language": "python",
   "name": "python3"
  },
  "language_info": {
   "codemirror_mode": {
    "name": "ipython",
    "version": 3
   },
   "file_extension": ".py",
   "mimetype": "text/x-python",
   "name": "python",
   "nbconvert_exporter": "python",
   "pygments_lexer": "ipython3",
   "version": "3.12.8"
  }
 },
 "nbformat": 4,
 "nbformat_minor": 5
}
