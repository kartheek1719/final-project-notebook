{
 "cells": [
  {
   "cell_type": "markdown",
   "id": "4590c9ea-7e86-452e-986e-6f8fd6614f8c",
   "metadata": {},
   "source": [
    "# Final Project - Data Science Essentials\n"
   ]
  },
  {
   "cell_type": "markdown",
   "id": "da2b5339-013e-4bdf-9d78-527163d11c08",
   "metadata": {},
   "source": [
    "# Introduction\n",
    "This notebook covers the fundamentals of Data Science, including tools, libraries, and basic operations using Python. It serves as a final project to demonstrate understanding of the key components involved in the data science workflow.\n"
   ]
  },
  {
   "cell_type": "markdown",
   "id": "19e408d6-34bf-410a-a1eb-9959c9f9e181",
   "metadata": {},
   "source": [
    "# Data Science Languages\n",
    "Here are some popular programming languages used in data science:\n",
    "\n",
    "- Python\n",
    "- R\n",
    "- SQL\n",
    "- Julia\n",
    "- Scala\n"
   ]
  },
  {
   "cell_type": "markdown",
   "id": "2ff686fb-82b2-4030-aef3-067655a18008",
   "metadata": {},
   "source": [
    "## Data Science Libraries\n",
    "Below are commonly used libraries in Data Science:\n",
    "\n",
    "- Pandas\n",
    "- NumPy\n",
    "- Scikit-learn\n",
    "- TensorFlow\n",
    "- Matplotlib\n",
    "- Seaborn\n"
   ]
  },
  {
   "cell_type": "markdown",
   "id": "2dc3922e-1aa2-4206-a0e4-ac88a004f5e2",
   "metadata": {},
   "source": [
    "## Data Science Tools\n",
    "\n",
    "| Tool           | Category           | Description                        |\n",
    "|----------------|--------------------|------------------------------------|\n",
    "|Jupyter Notebook| IDE                |Interactive coding environment      |\n",
    "| RStudio        | IDE                | IDE for R language                 |\n",
    "| Apache Spark   | Big Data Tool      | Distributed data processing engine |\n",
    "| Tableau        | Visualization Tool | Data visualization software        |\n",
    "| TensorFlow     | ML Library         | Deep learning library              |\n"
   ]
  },
  {
   "cell_type": "markdown",
   "id": "501460cf-afd5-45ed-8fe2-923941b60fa6",
   "metadata": {},
   "source": [
    "# Arithmetic Expressions in Python\n",
    "We can perform arithmetic operations like addition, subtraction, multiplication, and division using Python. Below are some examples.\n"
   ]
  },
  {
   "cell_type": "markdown",
   "id": "83d10e23-2ec7-4be6-896f-1bae302ee82a",
   "metadata": {},
   "source": [
    "# This will multiply 4 and 5, then add 3\n",
    "result = (5 * 7) + 8\n",
    "print(\"The result is:\", result)\n"
   ]
  },
  {
   "cell_type": "markdown",
   "id": "67609815-3dcf-404c-a24c-ee2b6144c021",
   "metadata": {},
   "source": [
    "# Convert 300 minutes to hours\n",
    "minutes = 300\n",
    "hours = minutes / 60\n",
    "print(f\"{minutes} minutes is equal to {hours:.2f} hours\")\n"
   ]
  },
  {
   "cell_type": "markdown",
   "id": "a7394050-80ee-42f5-a7d4-af85b348c155",
   "metadata": {},
   "source": [
    "# Objectives\n",
    "- Understand key data science languages and tools\n",
    "- Demonstrate markdown and code cell usage\n",
    "- Perform basic arithmetic operations using Python\n",
    "- Create and share a Jupyter Notebook via GitHub\n"
   ]
  },
  {
   "cell_type": "markdown",
   "id": "2549d85a-f483-4f62-97da-32b497dc2d0d",
   "metadata": {},
   "source": [
    "# Author\n",
    "**Bagabagni kartheek**\n"
   ]
  },
  {
   "cell_type": "code",
   "execution_count": null,
   "id": "4040b854-bc89-4764-8334-cf9fa09e0137",
   "metadata": {},
   "outputs": [],
   "source": []
  }
 ],
 "metadata": {
  "kernelspec": {
   "display_name": "Python 3 (ipykernel)",
   "language": "python",
   "name": "python3"
  },
  "language_info": {
   "codemirror_mode": {
    "name": "ipython",
    "version": 3
   },
   "file_extension": ".py",
   "mimetype": "text/x-python",
   "name": "python",
   "nbconvert_exporter": "python",
   "pygments_lexer": "ipython3",
   "version": "3.12.8"
  }
 },
 "nbformat": 4,
 "nbformat_minor": 5
}
