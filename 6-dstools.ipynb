{
 "cells": [
  {
   "cell_type": "markdown",
   "id": "9bba3d6b-229c-4eb0-a7c5-a0c2f591aeaf",
   "metadata": {},
   "source": [
    "Data science tools\n",
    "\n",
    "| Tool        | Category           |\n",
    "|-------------|------------------  |\n",
    "| Jupyter     | IDE / Notebook     |\n",
    "| RStudio     | IDE                |\n",
    "| Apache Spark| Big Data Framework |\n"
   ]
  },
  {
   "cell_type": "code",
   "execution_count": null,
   "id": "ce93d3b6-7020-4dab-a679-4f955c0c3b70",
   "metadata": {},
   "outputs": [],
   "source": []
  }
 ],
 "metadata": {
  "kernelspec": {
   "display_name": "Python 3 (ipykernel)",
   "language": "python",
   "name": "python3"
  },
  "language_info": {
   "codemirror_mode": {
    "name": "ipython",
    "version": 3
   },
   "file_extension": ".py",
   "mimetype": "text/x-python",
   "name": "python",
   "nbconvert_exporter": "python",
   "pygments_lexer": "ipython3",
   "version": "3.12.8"
  }
 },
 "nbformat": 4,
 "nbformat_minor": 5
}
