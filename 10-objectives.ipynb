{
 "cells": [
  {
   "cell_type": "markdown",
   "id": "821e7f64-4038-4353-b8b1-6745d70ddc60",
   "metadata": {},
   "source": [
    "The objectives of this notebook are:\n",
    "\n",
    "- Learn markdown\n",
    "- Practice Python arithmetic\n",
    "- Explore Data Science tools\n"
   ]
  }
 ],
 "metadata": {
  "kernelspec": {
   "display_name": "Python 3 (ipykernel)",
   "language": "python",
   "name": "python3"
  },
  "language_info": {
   "codemirror_mode": {
    "name": "ipython",
    "version": 3
   },
   "file_extension": ".py",
   "mimetype": "text/x-python",
   "name": "python",
   "nbconvert_exporter": "python",
   "pygments_lexer": "ipython3",
   "version": "3.12.8"
  }
 },
 "nbformat": 4,
 "nbformat_minor": 5
}
