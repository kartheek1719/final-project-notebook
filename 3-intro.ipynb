{
 "cells": [
  {
   "cell_type": "markdown",
   "id": "ae7138e3-e6e5-46b0-b5be-abaa4a744199",
   "metadata": {},
   "source": [
    "# INTRODUCTION\n",
    "This notebook contains various exercises related to Data Science concepts.\n"
   ]
  }
 ],
 "metadata": {
  "kernelspec": {
   "display_name": "Python 3 (ipykernel)",
   "language": "python",
   "name": "python3"
  },
  "language_info": {
   "codemirror_mode": {
    "name": "ipython",
    "version": 3
   },
   "file_extension": ".py",
   "mimetype": "text/x-python",
   "name": "python",
   "nbconvert_exporter": "python",
   "pygments_lexer": "ipython3",
   "version": "3.12.8"
  }
 },
 "nbformat": 4,
 "nbformat_minor": 5
}
